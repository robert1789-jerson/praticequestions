{
 "cells": [
  {
   "cell_type": "code",
   "execution_count": 1,
   "metadata": {},
   "outputs": [
    {
     "ename": "NameError",
     "evalue": "name 'incidents' is not defined",
     "output_type": "error",
     "traceback": [
      "\u001b[1;31m---------------------------------------------------------------------------\u001b[0m",
      "\u001b[1;31mNameError\u001b[0m                                 Traceback (most recent call last)",
      "Cell \u001b[1;32mIn[1], line 20\u001b[0m\n\u001b[0;32m     17\u001b[0m     \u001b[38;5;28;01mreturn\u001b[39;00m \u001b[38;5;28mdict\u001b[39m(\u001b[38;5;28mzip\u001b[39m(attribute_names, values))\n\u001b[0;32m     18\u001b[0m \u001b[38;5;66;03m# Processing each incident and storing results in a list by calling the defined function multiple times for all the given incidents to ensure that all are being added again to a list\u001b[39;00m\n\u001b[1;32m---> 20\u001b[0m report_list_incindents \u001b[38;5;241m=\u001b[39m [process_report_strings(incident, attribute_names) \u001b[38;5;28;01mfor\u001b[39;00m incident \u001b[38;5;129;01min\u001b[39;00m incidents]\n\u001b[0;32m     22\u001b[0m \u001b[38;5;66;03m# Checking the result by lopping to find all the outputs\u001b[39;00m\n\u001b[0;32m     24\u001b[0m \u001b[38;5;28;01mfor\u001b[39;00m report_incidents \u001b[38;5;129;01min\u001b[39;00m report_list_incindents:\n",
      "\u001b[1;31mNameError\u001b[0m: name 'incidents' is not defined"
     ]
    }
   ],
   "source": [
    "# Defining a function for processing report strings\n",
    "\n",
    "def process_report_strings(incident_string, attribute_names):\n",
    "\n",
    "    # Splitting the incident string by semicolons and alsoremove extra quotes and whitespaces by using strip.\n",
    "\n",
    "    values = [value.strip().strip('\"') for value in incident_string.strip().split(\";\")]\n",
    "\n",
    "    # Handling missing attribute i.e. considering image as missed attribute\n",
    "\n",
    "    if len(values) < len(attribute_names): # Checking length to identify if values length are less than the attribute names then i need to append it as \"None\"\n",
    "\n",
    "        values.append('none')  # Adding 'none' if image is missing\n",
    "\n",
    "    # Creating a dictionary from the attribute names and values\n",
    "\n",
    "    return dict(zip(attribute_names, values))\n",
    "# Processing each incident and storing results in a list by calling the defined function multiple times for all the given incidents to ensure that all are being added again to a list\n",
    "\n",
    "report_list_incindents = [process_report_strings(incident, attribute_names) for incident in incidents]\n",
    "\n",
    "# Checking the result by lopping to find all the outputs\n",
    "\n",
    "for report_incidents in report_list_incindents:\n",
    "\n",
    "    print(report_incidents)\n",
    "\n",
    "\n",
    "# Report_list_incindents\n",
    "\n",
    "\n",
    "import re\n",
    "\n",
    "for single_incident in report_list_incindents:\n",
    "    for key in single_incident:\n",
    "\n",
    "        if isinstance(single_incident[key], str):\n",
    "\n",
    "            single_incident[key] = single_incident[key].replace('\\n', '')\n",
    "    match = re.search(r'https?://([^/]+)', single_incident['url'])\n",
    "\n",
    "    single_incident['domain'] = match.group(1) if match else 'none'\n",
    "    date_published = single_incident['date published']\n",
    "\n",
    "    date_submitted = single_incident['date submitted']\n",
    "\n",
    "    year_published, month_published, day_published = map(int, date_published.split('-'))\n",
    "\n",
    "    year_submitted, month_submitted, day_submitted = map(int, date_submitted.split('-'))\n",
    "\n",
    "    days_difference = (year_submitted - year_published) * 360 + (month_submitted - month_published) * 30 + (day_submitted - day_published)\n",
    "\n",
    "    single_incident['time difference'] = days_difference\n",
    "\n",
    "for incident in report_list_incindents:\n",
    "    print(incident)\n",
    "\n",
    "\n",
    "\n",
    "\n",
    "\n"
   ]
  }
 ],
 "metadata": {
  "kernelspec": {
   "display_name": "base",
   "language": "python",
   "name": "python3"
  },
  "language_info": {
   "codemirror_mode": {
    "name": "ipython",
    "version": 3
   },
   "file_extension": ".py",
   "mimetype": "text/x-python",
   "name": "python",
   "nbconvert_exporter": "python",
   "pygments_lexer": "ipython3",
   "version": "3.12.4"
  }
 },
 "nbformat": 4,
 "nbformat_minor": 2
}
